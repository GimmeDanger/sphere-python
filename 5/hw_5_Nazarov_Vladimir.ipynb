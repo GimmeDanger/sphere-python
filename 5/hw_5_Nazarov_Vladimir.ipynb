{
 "cells": [
  {
   "cell_type": "code",
   "execution_count": 179,
   "metadata": {
    "collapsed": false
   },
   "outputs": [],
   "source": [
    "%matplotlib inline\n",
    "import numpy as np\n",
    "import pandas as pd\n",
    "import scipy.stats as stats\n",
    "import scipy.special as special\n",
    "\n",
    "from sklearn.utils import resample\n",
    "\n",
    "salaries = pd.read_csv('salaries.csv')\n",
    "salaries.head()\n",
    "multiple_testing_pvalues = []"
   ]
  },
  {
   "cell_type": "code",
   "execution_count": 180,
   "metadata": {
    "collapsed": false
   },
   "outputs": [
    {
     "data": {
      "text/html": [
       "<div>\n",
       "<table border=\"1\" class=\"dataframe\">\n",
       "  <thead>\n",
       "    <tr style=\"text-align: right;\">\n",
       "      <th></th>\n",
       "      <th>Unnamed: 0</th>\n",
       "      <th>Unnamed: 0.1</th>\n",
       "      <th>Agency</th>\n",
       "      <th>Salary2010</th>\n",
       "      <th>Salary2011</th>\n",
       "      <th>Salary2012</th>\n",
       "      <th>Salary2013</th>\n",
       "    </tr>\n",
       "  </thead>\n",
       "  <tbody>\n",
       "    <tr>\n",
       "      <th>count</th>\n",
       "      <td>52256.000000</td>\n",
       "      <td>52256.000000</td>\n",
       "      <td>52256.000000</td>\n",
       "      <td>5.225600e+04</td>\n",
       "      <td>5.225600e+04</td>\n",
       "      <td>5.225600e+04</td>\n",
       "      <td>5.225600e+04</td>\n",
       "    </tr>\n",
       "    <tr>\n",
       "      <th>mean</th>\n",
       "      <td>35504.500593</td>\n",
       "      <td>156430.169205</td>\n",
       "      <td>409.339655</td>\n",
       "      <td>4.938067e+04</td>\n",
       "      <td>5.212639e+04</td>\n",
       "      <td>5.251105e+04</td>\n",
       "      <td>5.030586e+04</td>\n",
       "    </tr>\n",
       "    <tr>\n",
       "      <th>std</th>\n",
       "      <td>21453.363830</td>\n",
       "      <td>89673.627737</td>\n",
       "      <td>155.483410</td>\n",
       "      <td>3.391431e+04</td>\n",
       "      <td>3.443960e+04</td>\n",
       "      <td>3.523870e+04</td>\n",
       "      <td>3.672471e+04</td>\n",
       "    </tr>\n",
       "    <tr>\n",
       "      <th>min</th>\n",
       "      <td>2.000000</td>\n",
       "      <td>10.000000</td>\n",
       "      <td>11.000000</td>\n",
       "      <td>1.000000e+02</td>\n",
       "      <td>1.000000e+02</td>\n",
       "      <td>1.020000e+02</td>\n",
       "      <td>1.010000e+02</td>\n",
       "    </tr>\n",
       "    <tr>\n",
       "      <th>25%</th>\n",
       "      <td>17596.750000</td>\n",
       "      <td>83462.750000</td>\n",
       "      <td>305.000000</td>\n",
       "      <td>3.043250e+04</td>\n",
       "      <td>3.379500e+04</td>\n",
       "      <td>3.392975e+04</td>\n",
       "      <td>3.065450e+04</td>\n",
       "    </tr>\n",
       "    <tr>\n",
       "      <th>50%</th>\n",
       "      <td>33986.500000</td>\n",
       "      <td>155251.000000</td>\n",
       "      <td>360.000000</td>\n",
       "      <td>4.632200e+04</td>\n",
       "      <td>4.818700e+04</td>\n",
       "      <td>4.888950e+04</td>\n",
       "      <td>4.709300e+04</td>\n",
       "    </tr>\n",
       "    <tr>\n",
       "      <th>75%</th>\n",
       "      <td>52524.250000</td>\n",
       "      <td>225747.500000</td>\n",
       "      <td>490.000000</td>\n",
       "      <td>6.422325e+04</td>\n",
       "      <td>6.604500e+04</td>\n",
       "      <td>6.633725e+04</td>\n",
       "      <td>6.564025e+04</td>\n",
       "    </tr>\n",
       "    <tr>\n",
       "      <th>max</th>\n",
       "      <td>79084.000000</td>\n",
       "      <td>339762.000000</td>\n",
       "      <td>696.000000</td>\n",
       "      <td>1.982918e+06</td>\n",
       "      <td>2.529168e+06</td>\n",
       "      <td>2.736431e+06</td>\n",
       "      <td>2.633642e+06</td>\n",
       "    </tr>\n",
       "  </tbody>\n",
       "</table>\n",
       "</div>"
      ],
      "text/plain": [
       "         Unnamed: 0   Unnamed: 0.1        Agency    Salary2010    Salary2011  \\\n",
       "count  52256.000000   52256.000000  52256.000000  5.225600e+04  5.225600e+04   \n",
       "mean   35504.500593  156430.169205    409.339655  4.938067e+04  5.212639e+04   \n",
       "std    21453.363830   89673.627737    155.483410  3.391431e+04  3.443960e+04   \n",
       "min        2.000000      10.000000     11.000000  1.000000e+02  1.000000e+02   \n",
       "25%    17596.750000   83462.750000    305.000000  3.043250e+04  3.379500e+04   \n",
       "50%    33986.500000  155251.000000    360.000000  4.632200e+04  4.818700e+04   \n",
       "75%    52524.250000  225747.500000    490.000000  6.422325e+04  6.604500e+04   \n",
       "max    79084.000000  339762.000000    696.000000  1.982918e+06  2.529168e+06   \n",
       "\n",
       "         Salary2012    Salary2013  \n",
       "count  5.225600e+04  5.225600e+04  \n",
       "mean   5.251105e+04  5.030586e+04  \n",
       "std    3.523870e+04  3.672471e+04  \n",
       "min    1.020000e+02  1.010000e+02  \n",
       "25%    3.392975e+04  3.065450e+04  \n",
       "50%    4.888950e+04  4.709300e+04  \n",
       "75%    6.633725e+04  6.564025e+04  \n",
       "max    2.736431e+06  2.633642e+06  "
      ]
     },
     "execution_count": 180,
     "metadata": {},
     "output_type": "execute_result"
    }
   ],
   "source": [
    "salaries.describe()"
   ]
  },
  {
   "cell_type": "code",
   "execution_count": 181,
   "metadata": {
    "collapsed": false
   },
   "outputs": [
    {
     "name": "stdout",
     "output_type": "stream",
     "text": [
      "Null hypothesis #1 must be rejected.\n",
      "Null hypothesis #2 cannot be rejected.\n"
     ]
    }
   ],
   "source": [
    "# 1.1\n",
    "\n",
    "# X = Salary2010 -- random variable\n",
    "# Null hypothesis #1: mu(X) = mu_1 = 4.91e+04\n",
    "#  Alt hypothesis #1: mu(x) > mu_1 \n",
    "\n",
    "mu_1 = 4.91e+04\n",
    "t_cr = stats.t.ppf(0.95, salaries['Salary2010'].count()-1)\n",
    "t_obs = (salaries['Salary2010'].mean() - mu_1) / (salaries['Salary2010'].std()\n",
    "                                                /np.sqrt(salaries['Salary2010'].count()))\n",
    "#print t_cr\n",
    "#print t_obs \n",
    "pvalue = stats.t.sf(t_obs, salaries['Salary2010'].count())\n",
    "multiple_testing_pvalues.append(pvalue)\n",
    "\n",
    "if t_obs > t_cr:\n",
    "    print \"Null hypothesis #1 must be rejected.\"\n",
    "else:\n",
    "    print \"Null hypothesis #1 cannot be rejected.\"\n",
    "\n",
    "# Null hypothesis #2: mu(X) = mu_2 = 4.95e+04\n",
    "#  Alt hypothesis #2: mu(x) < mu_2 \n",
    "mu_2 = 4.95e+04\n",
    "t_cr = stats.t.ppf(0.05, salaries['Salary2010'].count()-1)\n",
    "t_obs = (salaries['Salary2010'].mean() - mu_2)/(salaries['Salary2010'].std()\n",
    "                                                /np.sqrt(salaries['Salary2010'].count()))\n",
    "\n",
    "#print t_cr\n",
    "#print t_obs \n",
    "pvalue = stats.t.sf(t_obs, salaries['Salary2010'].count())\n",
    "multiple_testing_pvalues.append(pvalue)\n",
    "\n",
    "if t_obs < t_cr:\n",
    "    print \"Null hypothesis #2 must be rejected.\"\n",
    "else:\n",
    "    print \"Null hypothesis #2 cannot be rejected.\"\n",
    "\n",
    "# equivalent library function: \n",
    "# stats.ttest_1samp(salaries['Salary2010'], mu_2)"
   ]
  },
  {
   "cell_type": "code",
   "execution_count": 182,
   "metadata": {
    "collapsed": false
   },
   "outputs": [
    {
     "name": "stdout",
     "output_type": "stream",
     "text": [
      "0.487354929065\n",
      "Null hypothesis #3 cannot be rejected.\n",
      "0.00715666391959\n",
      "Null hypothesis #4 must be rejected.\n"
     ]
    }
   ],
   "source": [
    "# 1.2 (a) -- parametric test (T-test) -- for 2 INDEPENDENT samples\n",
    "# If we observe a large p-value, for example larger than 0.05 or 0.1,\n",
    "# then we cannot reject the null hypothesis of identical average scores.\n",
    "# Overwise we reject the null hypothesis of equal averages.\n",
    "\n",
    "# H_0: M1 = M2 -- lets check 2 parts of 'Salary2010'\n",
    "sz = salaries['Salary2010'].size / 2\n",
    "stat, pvalue = stats.ttest_ind(salaries['Salary2010'][sz::], salaries['Salary2010'][::sz], equal_var=False)\n",
    "print pvalue\n",
    "multiple_testing_pvalues.append(pvalue)\n",
    "if pvalue > 0.05:\n",
    "    print \"Null hypothesis #3 cannot be rejected.\"\n",
    "else:\n",
    "    print \"Null hypothesis #3 must be rejected.\"\n",
    "    \n",
    "# 1.2 (b) -- nonparametric test (Sign test) -- for 2 INDEPENDENT samples\n",
    "# H_0: median_1 = median_2\n",
    "stat, pvalue = stats.mannwhitneyu(salaries['Unnamed: 0.1'][sz::], salaries['Unnamed: 0'][::sz])\n",
    "print pvalue\n",
    "multiple_testing_pvalues.append(pvalue)\n",
    "if pvalue > 0.05:\n",
    "    print \"Null hypothesis #4 cannot be rejected.\"\n",
    "else:\n",
    "    print \"Null hypothesis #4 must be rejected.\""
   ]
  },
  {
   "cell_type": "code",
   "execution_count": 183,
   "metadata": {
    "collapsed": false
   },
   "outputs": [
    {
     "name": "stdout",
     "output_type": "stream",
     "text": [
      "Null hypothesis #5 must be rejected.\n",
      "Null hypothesis #6 must be rejected.\n"
     ]
    }
   ],
   "source": [
    "# 1.3 (a) T-test for 2 DEPENDENT samples\n",
    "samp_1 = salaries['Salary2010']\n",
    "samp_2 = salaries['Salary2013']\n",
    "dif_samp = samp_1 - samp_2\n",
    "mean = dif_samp.mean()\n",
    "std = dif_samp.std()\n",
    "n = dif_samp.size\n",
    "df = n - 1\n",
    "t_cr = stats.t.ppf(0.95, df)\n",
    "t_obs = mean / (std * np.sqrt(n))\n",
    "\n",
    "pvalue = stats.t.sf(t_obs, dif_samp.count())\n",
    "multiple_testing_pvalues.append(pvalue)\n",
    "\n",
    "if t_obs < t_cr:\n",
    "    print \"Null hypothesis #5 must be rejected.\"\n",
    "else:\n",
    "    print \"Null hypothesis #6 cannot be rejected.\"\n",
    "\n",
    "# 1.3 (b) Wilcoxon for 2 DEPENDENT samples\n",
    "stat, pvalue = stats.wilcoxon(dif_samp)\n",
    "multiple_testing_pvalues.append(pvalue)\n",
    "if pvalue > 0.05:\n",
    "    print \"Null hypothesis #6 cannot be rejected.\"\n",
    "else:\n",
    "    print \"Null hypothesis #6 must be rejected.\""
   ]
  },
  {
   "cell_type": "code",
   "execution_count": 184,
   "metadata": {
    "collapsed": false
   },
   "outputs": [
    {
     "data": {
      "text/html": [
       "<div>\n",
       "<table border=\"1\" class=\"dataframe\">\n",
       "  <thead>\n",
       "    <tr style=\"text-align: right;\">\n",
       "      <th></th>\n",
       "      <th>Share of H0 rejected:</th>\n",
       "    </tr>\n",
       "  </thead>\n",
       "  <tbody>\n",
       "    <tr>\n",
       "      <th>T-test</th>\n",
       "      <td>0.047</td>\n",
       "    </tr>\n",
       "  </tbody>\n",
       "</table>\n",
       "</div>"
      ],
      "text/plain": [
       "        Share of H0 rejected:\n",
       "T-test                  0.047"
      ]
     },
     "execution_count": 184,
     "metadata": {},
     "output_type": "execute_result"
    }
   ],
   "source": [
    "#2 Power of test\n",
    "def one_sample_test_power(data, mu_0, rand_sample_size, iters=1000):\n",
    "    tests=[]\n",
    "    for j in range(iters):\n",
    "        rand_samp = data.sample(n=rand_sample_size)\n",
    "        pvalue = stats.ttest_1samp(rand_samp, mu_0)[1]\n",
    "        #pvalue = stats.wilcoxon(rand_samp)[1]\n",
    "        tests.append(pvalue)\n",
    "        \n",
    "    tests=np.array(tests)<0.05\n",
    "    tests = pd.DataFrame(np.mean(tests, axis=0).reshape(-1, 1))\n",
    "    tests.columns=[\"Share of H0 rejected:\"]\n",
    "    tests.index=[\"T-test\"]    \n",
    "    \n",
    "    return tests\n",
    "\n",
    "# H_0: mu = mu_0; H_1: mu != mu_0\n",
    "mu_0 = 4.938e+04\n",
    "one_sample_test_power(salaries['Salary2010'], 4.938e+04, rand_sample_size=1000)"
   ]
  },
  {
   "cell_type": "code",
   "execution_count": 185,
   "metadata": {
    "collapsed": false
   },
   "outputs": [
    {
     "name": "stdout",
     "output_type": "stream",
     "text": [
      "4 hypothesis were rejected.\n",
      "Number of rejections in fdr_bh: 2\n",
      "Number of rejections in bonferroni: 2\n",
      "Number of rejections in sidak: 2\n",
      "Number of rejections in holm: 2\n"
     ]
    }
   ],
   "source": [
    "#3 FDR, Bonferroni, Sidak, Bonferroni-Holm\n",
    "from statsmodels.sandbox.stats.multicomp import multipletests\n",
    "\n",
    "print '4 hypothesis were rejected.'\n",
    "multiple_testing_pvalues = np.array(multiple_testing_pvalues)\n",
    "methods = ['fdr_bh', 'bonferroni', 'sidak', 'holm']\n",
    "\n",
    "for m in methods:\n",
    "    is_reject, corrected_pvals, _, _ = multipletests(multiple_testing_pvalues, alpha=0.05, method=m)\n",
    "    print 'Number of rejections in {}: {}'.format(m, is_reject.sum())\n",
    "\n",
    "# Results have changed."
   ]
  },
  {
   "cell_type": "code",
   "execution_count": 191,
   "metadata": {
    "collapsed": false
   },
   "outputs": [
    {
     "name": "stdout",
     "output_type": "stream",
     "text": [
      "49380.6672344\n",
      "49619.0230825\n",
      "49141.9102237\n"
     ]
    }
   ],
   "source": [
    "#4 (a) parametric interval for mean\n",
    "mean_initial = np.mean(salaries['Salary2010'])\n",
    "errs = []\n",
    "for i in xrange(1000):\n",
    "    errs.append(resample(salaries['Salary2010'], replace=True).mean())\n",
    "\n",
    "print mean_initial\n",
    "print np.percentile(np.sort(errs), 95)\n",
    "print np.percentile(np.sort(errs), 5)"
   ]
  },
  {
   "cell_type": "code",
   "execution_count": 206,
   "metadata": {
    "collapsed": false
   },
   "outputs": [
    {
     "name": "stdout",
     "output_type": "stream",
     "text": [
      "155251.0\n",
      "164373.250468\n",
      "148183.855317\n"
     ]
    }
   ],
   "source": [
    "#4 (b) nonparametric interval for median\n",
    "sample = salaries[\"Unnamed: 0.1\"]\n",
    "median_initial = np.median(sample)\n",
    "sample_mean = sample.mean()\n",
    "sample_std  = sample.std()\n",
    "sample_size = sample.size / 100\n",
    "\n",
    "errs = []\n",
    "for i in xrange(1000):\n",
    "    errs.append(np.median(np.random.normal(sample_mean, sample_std, sample_size)))\n",
    "\n",
    "print median_initial\n",
    "print np.percentile(np.sort(errs), 95)\n",
    "print np.percentile(np.sort(errs), 5)"
   ]
  }
 ],
 "metadata": {
  "kernelspec": {
   "display_name": "Python 2",
   "language": "python",
   "name": "python2"
  },
  "language_info": {
   "codemirror_mode": {
    "name": "ipython",
    "version": 2
   },
   "file_extension": ".py",
   "mimetype": "text/x-python",
   "name": "python",
   "nbconvert_exporter": "python",
   "pygments_lexer": "ipython2",
   "version": "2.7.6"
  }
 },
 "nbformat": 4,
 "nbformat_minor": 1
}
