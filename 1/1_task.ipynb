{
 "cells": [
  {
   "cell_type": "code",
   "execution_count": 1,
   "metadata": {
    "collapsed": false
   },
   "outputs": [
    {
     "name": "stdout",
     "output_type": "stream",
     "text": [
      "1089154\n"
     ]
    }
   ],
   "source": [
    "# Найти сумму всех четных чисел в последовательности Фиббоначи, которые меньше миллиона, 5 баллов\n",
    "from itertools import takewhile\n",
    "\n",
    "NUM = 1e6\n",
    "\n",
    "# fibonacci generator\n",
    "def fibonacci():\n",
    "       i, j = 0, 1\n",
    "       while True:\n",
    "           yield j\n",
    "           i, j = j, i + j\n",
    "\n",
    "# seq of fibonacci numbers which are less than NUM\n",
    "seq = takewhile (lambda x: x < NUM, fibonacci())\n",
    "\n",
    "# pred of parity\n",
    "is_even = lambda x : x % 2 == 0\n",
    "\n",
    "ans = sum(x for x in seq if is_even(x))\n",
    "print ans\n",
    "\n",
    "# DEBUG\n",
    "if False:\n",
    "    check = 0\n",
    "    i,j = 0,1\n",
    "    while j < num :\n",
    "        if j % 2 == 0 :\n",
    "            check += j\n",
    "        i,j = j,i+j\n",
    "\n",
    "    print check"
   ]
  },
  {
   "cell_type": "code",
   "execution_count": 2,
   "metadata": {
    "collapsed": false
   },
   "outputs": [
    {
     "name": "stdout",
     "output_type": "stream",
     "text": [
      "Input text file does not exist.\n"
     ]
    }
   ],
   "source": [
    "# В директории находится текстовый файл с киррилицей. \n",
    "# Необходимо прочитать его и построить частоту, с которой встречается каждая из гласных, 3 балла\n",
    "\n",
    "import io\n",
    "from collections import Counter \n",
    "\n",
    "# text file from current directory\n",
    "filename = \"input.txt\"\n",
    "\n",
    "VOW  = u'аеёиоуыэюя'\n",
    "text = ''\n",
    "\n",
    "# read only vowel letters from <filename> in utf8\n",
    "try:\n",
    "    r_f = io.open(filename, 'r', encoding='utf8')\n",
    "    while True:\n",
    "        c = (r_f.read(1)).lower()\n",
    "        if c in VOW:\n",
    "            text += c\n",
    "        if not c:\n",
    "            break\n",
    "except IOError:\n",
    "    print 'Input text file does not exist.'\n",
    "\n",
    "c = Counter(text)\n",
    "for vow, count in c.most_common():\n",
    "    print(u\"{0}-{1}\".format(vow, count))"
   ]
  },
  {
   "cell_type": "code",
   "execution_count": 3,
   "metadata": {
    "collapsed": false
   },
   "outputs": [
    {
     "name": "stdout",
     "output_type": "stream",
     "text": [
      "{'one': 1, 'three': 3, 'two': 2}\n{1: 'one', 2: 'two', 3: 'three'}\n"
     ]
    }
   ],
   "source": [
    "# Написать код, который инвертирует значения в словаре (значение:ключ вместо ключ:значение), 1 балл.\n",
    "\n",
    "#init dictionary\n",
    "initial_dct = dict({'one' : 1, 'two' : 2, 'three' : 3}) \n",
    "print initial_dct\n",
    "\n",
    "#swap keys and values\n",
    "res_dct = dict((v,k) for k,v in initial_dct.iteritems())\n",
    "print res_dct"
   ]
  }
 ],
 "metadata": {
  "kernelspec": {
   "display_name": "Python [Root]",
   "language": "python",
   "name": "Python [Root]"
  },
  "language_info": {
   "codemirror_mode": {
    "name": "ipython",
    "version": 2.0
   },
   "file_extension": ".py",
   "mimetype": "text/x-python",
   "name": "python",
   "nbconvert_exporter": "python",
   "pygments_lexer": "ipython2",
   "version": "2.7.12"
  }
 },
 "nbformat": 4,
 "nbformat_minor": 0
}