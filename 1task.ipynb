{
 "cells": [
  {
   "cell_type": "code",
   "execution_count": 77,
   "metadata": {
    "collapsed": false
   },
   "outputs": [
    {
     "name": "stdout",
     "output_type": "stream",
     "text": [
      "1089154\n"
     ]
    }
   ],
   "source": [
    "# Найти сумму всех четных чисел в последовательности Фиббоначи, которые меньше миллиона, 5 баллов\n",
    "from itertools import takewhile\n",
    "\n",
    "NUM = 1e6\n",
    "\n",
    "# fibonacci generator\n",
    "def fibonacci():\n",
    "       i, j = 0, 1\n",
    "       while True:\n",
    "           yield j\n",
    "           i, j = j, i + j\n",
    "\n",
    "# seq of fibonacci numbers which are less than NUM\n",
    "seq = takewhile (lambda x: x < NUM, fibonacci())\n",
    "\n",
    "# pred of parity\n",
    "is_even = lambda x : x % 2 == 0\n",
    "\n",
    "ans = sum(x for x in seq if is_even(x))\n",
    "print ans\n",
    "\n",
    "# DEBUG\n",
    "if False:\n",
    "    check = 0\n",
    "    i,j = 0,1\n",
    "    while j < num :\n",
    "        if j % 2 == 0 :\n",
    "            check += j\n",
    "        i,j = j,i+j\n",
    "\n",
    "    print check"
   ]
  },
  {
   "cell_type": "code",
   "execution_count": 53,
   "metadata": {
    "collapsed": false
   },
   "outputs": [
    {
     "name": "stdout",
     "output_type": "stream",
     "text": [
      "1\n"
     ]
    }
   ],
   "source": [
    "# В директории находится текстовый файл с киррилицей. \n",
    "# Необходимо прочитать его и построить частоту, с которой встречается каждая из гласных, 3 балла"
   ]
  },
  {
   "cell_type": "code",
   "execution_count": 97,
   "metadata": {
    "collapsed": false
   },
   "outputs": [],
   "source": [
    "# Написать код, который инвертирует значения в словаре (значение:ключ вместо ключ:значение), 1 балл.\n",
    "\n",
    "#init dictionary\n",
    "initial_dct = dict({'one' : 1, 'two' : 2, 'three' : 3}) \n",
    "print initial_dct\n",
    "\n",
    "#swap keys and values\n",
    "res_dct = dict((v,k) for k,v in initial_dct.iteritems())\n",
    "print res_dct"
   ]
  },
  {
   "cell_type": "code",
   "execution_count": null,
   "outputs": [],
   "source": [
    ""
   ]
  }
 ],
 "metadata": {
  "kernelspec": {
   "display_name": "Python [Root]",
   "language": "python",
   "name": "Python [Root]"
  },
  "language_info": {
   "codemirror_mode": {
    "name": "ipython",
    "version": 2.0
   },
   "file_extension": ".py",
   "mimetype": "text/x-python",
   "name": "python",
   "nbconvert_exporter": "python",
   "pygments_lexer": "ipython2",
   "version": "2.7.12"
  }
 },
 "nbformat": 4,
 "nbformat_minor": 0
}